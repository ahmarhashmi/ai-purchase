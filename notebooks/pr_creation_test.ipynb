{
 "cells": [
  {
   "cell_type": "code",
   "execution_count": 51,
   "metadata": {},
   "outputs": [],
   "source": [
    "import spacy\n",
    "import json\n",
    "import copy\n",
    "# Load the trained model\n",
    "nlp = spacy.load('data/en_pr_vroozi_new')\n",
    "\n",
    "# Define a sample input statement to test the model\n",
    "text = \"I want to buy 2 boxes of pasta for $4 and 1 pack of orange juice costing $3 from IJAZ EMAIL\"\n",
    "\n",
    "# Process the text using the model\n",
    "doc = nlp(text)\n",
    "\n",
    "# Print the identified named entities and their labels\n",
    "items={}\n",
    "product={}\n",
    "suppliers='None'\n",
    "count=0\n",
    "for ent in doc.ents:\n",
    "    if ent.label_ == \"Quantity\":\n",
    "        product[\"Quantity\"] = ent.text\n",
    "    elif ent.label_ == \"Product\":\n",
    "        product[\"Product\"] = ent.text\n",
    "    elif ent.label_ == \"Price\":\n",
    "        product[\"Price\"] = ent.text\n",
    "    elif ent.label_ == \"Supplier\":\n",
    "        suppliers = ent.text\n",
    "    options=list(product.keys())\n",
    "    if \"Quantity\" in options and \"Product\" in options and \"Price\" in options:\n",
    "        product['Supplier']=suppliers\n",
    "        items['item_'+str(count)]=product\n",
    "        product={}\n",
    "        count+=1\n",
    "for i in range(count):\n",
    "    items['item_'+str(i)]['Supplier']=suppliers\n"
   ]
  },
  {
   "cell_type": "code",
   "execution_count": 52,
   "outputs": [
    {
     "data": {
      "text/plain": "{'item_0': {'Quantity': '2 boxes',\n  'Product': 'pasta',\n  'Price': '$4',\n  'Supplier': 'IJAZ EMAIL'},\n 'item_1': {'Quantity': '1 pack',\n  'Product': 'orange juice',\n  'Price': '$3',\n  'Supplier': 'IJAZ EMAIL'}}"
     },
     "execution_count": 52,
     "metadata": {},
     "output_type": "execute_result"
    }
   ],
   "source": [
    "items"
   ],
   "metadata": {
    "collapsed": false
   }
  },
  {
   "cell_type": "code",
   "execution_count": 47,
   "outputs": [
    {
     "data": {
      "text/plain": "2"
     },
     "execution_count": 47,
     "metadata": {},
     "output_type": "execute_result"
    }
   ],
   "source": [
    "count"
   ],
   "metadata": {
    "collapsed": false
   }
  },
  {
   "cell_type": "code",
   "execution_count": 27,
   "outputs": [],
   "source": [],
   "metadata": {
    "collapsed": false
   }
  }
 ],
 "metadata": {
  "kernelspec": {
   "display_name": "base",
   "language": "python",
   "name": "python3"
  },
  "language_info": {
   "codemirror_mode": {
    "name": "ipython",
    "version": 3
   },
   "file_extension": ".py",
   "mimetype": "text/x-python",
   "name": "python",
   "nbconvert_exporter": "python",
   "pygments_lexer": "ipython3",
   "version": "3.9.13"
  },
  "orig_nbformat": 4,
  "vscode": {
   "interpreter": {
    "hash": "f51aaaeb8c9bbd6d8b978a724ccfd9c520f7d19c174d135c89eea28511dcc7f6"
   }
  }
 },
 "nbformat": 4,
 "nbformat_minor": 2
}
