{
 "cells": [
  {
   "cell_type": "code",
   "execution_count": 57,
   "metadata": {},
   "outputs": [],
   "source": [
    "import spacy\n",
    "import random\n",
    "import csv\n",
    "\n",
    "# Define the labels for the entities we want to recognize\n",
    "LABELS = [\"Product\", \"Quantity\", \"Price\", \"Supplier\"]\n",
    "\n",
    "# Load the spaCy model\n",
    "nlp = spacy.blank(\"en\")\n",
    "\n",
    "# Define the entity recognizer and add the labels\n",
    "ner = nlp.add_pipe(\"ner\")\n",
    "for label in LABELS:\n",
    "    ner.add_label(label)\n"
   ]
  },
  {
   "cell_type": "code",
   "execution_count": 76,
   "metadata": {},
   "outputs": [],
   "source": [
    "# Load and preprocess the training data\n",
    "train_data = []\n",
    "with open(\"data/training-data.csv\", \"r\", encoding=\"utf-8\") as file:\n",
    "    reader = csv.DictReader(file)\n",
    "    for row in reader:\n",
    "        text = row[\"Statement\"]\n",
    "        entities = []\n",
    "        for label in LABELS:\n",
    "            start_idx = text.find(row[label])\n",
    "            if start_idx != -1:\n",
    "                end_idx = start_idx + len(row[label])\n",
    "                entities.append((start_idx, end_idx, label))\n",
    "        train_data.append((text, {\"entities\": entities}))"
   ]
  },
  {
   "cell_type": "code",
   "execution_count": 77,
   "metadata": {},
   "outputs": [
    {
     "name": "stdout",
     "output_type": "stream",
     "text": [
      "Iteration 0 - Loss: 567.6218\n",
      "Iteration 1 - Loss: 256.4415\n",
      "Iteration 2 - Loss: 148.6483\n",
      "Iteration 3 - Loss: 132.9558\n",
      "Iteration 4 - Loss: 107.6068\n"
     ]
    }
   ],
   "source": [
    "# Train the model\n",
    "n_iter = 500\n",
    "random.seed(0)\n",
    "optimizer = nlp.begin_training()\n",
    "for i in range(n_iter):\n",
    "    random.shuffle(train_data)\n",
    "    losses = {}\n",
    "    for text, annotations in train_data:\n",
    "        doc = nlp.make_doc(text)\n",
    "        example = spacy.training.Example.from_dict(doc, annotations)\n",
    "        nlp.update([example], sgd=optimizer, drop=0.35, losses=losses)\n",
    "    print(\"Iteration {:d} - Loss: {:.4f}\".format(i, losses[\"ner\"]))\n",
    "\n",
    "# Save the trained model\n",
    "nlp.to_disk(\"data/en_pr_vroozi_new\")"
   ]
  }
 ],
 "metadata": {
  "kernelspec": {
   "display_name": "base",
   "language": "python",
   "name": "python3"
  },
  "language_info": {
   "codemirror_mode": {
    "name": "ipython",
    "version": 3
   },
   "file_extension": ".py",
   "mimetype": "text/x-python",
   "name": "python",
   "nbconvert_exporter": "python",
   "pygments_lexer": "ipython3",
   "version": "3.9.13"
  },
  "orig_nbformat": 4,
  "vscode": {
   "interpreter": {
    "hash": "f51aaaeb8c9bbd6d8b978a724ccfd9c520f7d19c174d135c89eea28511dcc7f6"
   }
  }
 },
 "nbformat": 4,
 "nbformat_minor": 2
}
